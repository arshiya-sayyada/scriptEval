{
 "cells": [
  {
   "cell_type": "markdown",
   "metadata": {},
   "source": [
    "# Exploratory Data Analysis"
   ]
  },
  {
   "cell_type": "code",
   "execution_count": 1,
   "metadata": {},
   "outputs": [
    {
     "name": "stdout",
     "output_type": "stream",
     "text": [
      "Requirement already satisfied: plotly in ./.local/lib/python3.6/site-packages (4.7.1)\n",
      "Requirement already satisfied: retrying>=1.3.3 in ./.local/lib/python3.6/site-packages (from plotly) (1.3.3)\n",
      "Requirement already satisfied: six in /share/apps/python/3.6.5/lib/python3.6/site-packages (from plotly) (1.11.0)\n",
      "\u001b[33mYou are using pip version 10.0.1, however version 20.1 is available.\n",
      "You should consider upgrading via the 'pip install --upgrade pip' command.\u001b[0m\n",
      "Collecting cufflinks\n",
      "  Using cached https://files.pythonhosted.org/packages/1a/18/4d32edaaf31ba4af9745dac676c4a28c48d3fc539000c29e855bd8db3b86/cufflinks-0.17.3.tar.gz\n",
      "Requirement already satisfied: numpy>=1.9.2 in /share/apps/python/3.6.5/lib/python3.6/site-packages (from cufflinks) (1.14.3)\n",
      "Requirement already satisfied: pandas>=0.19.2 in /share/apps/python/3.6.5/lib/python3.6/site-packages (from cufflinks) (0.22.0)\n",
      "Requirement already satisfied: plotly>=4.1.1 in ./.local/lib/python3.6/site-packages (from cufflinks) (4.7.1)\n",
      "Requirement already satisfied: six>=1.9.0 in /share/apps/python/3.6.5/lib/python3.6/site-packages (from cufflinks) (1.11.0)\n",
      "Collecting colorlover>=0.2.1 (from cufflinks)\n",
      "  Using cached https://files.pythonhosted.org/packages/9a/53/f696e4480b1d1de3b1523991dea71cf417c8b19fe70c704da164f3f90972/colorlover-0.3.0-py3-none-any.whl\n",
      "Requirement already satisfied: setuptools>=34.4.1 in /share/apps/python/3.6.5/lib/python3.6/site-packages (from cufflinks) (39.0.1)\n",
      "Requirement already satisfied: ipython>=5.3.0 in /share/apps/python/3.6.5/lib/python3.6/site-packages (from cufflinks) (7.3.0)\n",
      "Requirement already satisfied: ipywidgets>=7.0.0 in /share/apps/python/3.6.5/lib/python3.6/site-packages (from cufflinks) (7.4.2)\n",
      "Requirement already satisfied: python-dateutil>=2 in /share/apps/python/3.6.5/lib/python3.6/site-packages (from pandas>=0.19.2->cufflinks) (2.7.2)\n",
      "Requirement already satisfied: pytz>=2011k in /share/apps/python/3.6.5/lib/python3.6/site-packages (from pandas>=0.19.2->cufflinks) (2018.4)\n",
      "Requirement already satisfied: retrying>=1.3.3 in ./.local/lib/python3.6/site-packages (from plotly>=4.1.1->cufflinks) (1.3.3)\n",
      "Requirement already satisfied: pickleshare in /share/apps/python/3.6.5/lib/python3.6/site-packages (from ipython>=5.3.0->cufflinks) (0.7.5)\n",
      "Requirement already satisfied: backcall in /share/apps/python/3.6.5/lib/python3.6/site-packages (from ipython>=5.3.0->cufflinks) (0.1.0)\n",
      "Requirement already satisfied: jedi>=0.10 in /share/apps/python/3.6.5/lib/python3.6/site-packages (from ipython>=5.3.0->cufflinks) (0.13.2)\n",
      "Requirement already satisfied: traitlets>=4.2 in /share/apps/python/3.6.5/lib/python3.6/site-packages (from ipython>=5.3.0->cufflinks) (4.3.2)\n",
      "Requirement already satisfied: prompt-toolkit<2.1.0,>=2.0.0 in /share/apps/python/3.6.5/lib/python3.6/site-packages (from ipython>=5.3.0->cufflinks) (2.0.8)\n",
      "Requirement already satisfied: pexpect; sys_platform != \"win32\" in /share/apps/python/3.6.5/lib/python3.6/site-packages (from ipython>=5.3.0->cufflinks) (4.6.0)\n",
      "Requirement already satisfied: decorator in /share/apps/python/3.6.5/lib/python3.6/site-packages (from ipython>=5.3.0->cufflinks) (4.3.2)\n",
      "Requirement already satisfied: pygments in /share/apps/python/3.6.5/lib/python3.6/site-packages (from ipython>=5.3.0->cufflinks) (2.3.1)\n",
      "Requirement already satisfied: nbformat>=4.2.0 in /share/apps/python/3.6.5/lib/python3.6/site-packages (from ipywidgets>=7.0.0->cufflinks) (4.4.0)\n",
      "Requirement already satisfied: ipykernel>=4.5.1 in /share/apps/python/3.6.5/lib/python3.6/site-packages (from ipywidgets>=7.0.0->cufflinks) (5.1.0)\n",
      "Requirement already satisfied: widgetsnbextension~=3.4.0 in /share/apps/python/3.6.5/lib/python3.6/site-packages (from ipywidgets>=7.0.0->cufflinks) (3.4.2)\n",
      "Requirement already satisfied: parso>=0.3.0 in /share/apps/python/3.6.5/lib/python3.6/site-packages (from jedi>=0.10->ipython>=5.3.0->cufflinks) (0.3.4)\n",
      "Requirement already satisfied: ipython-genutils in /share/apps/python/3.6.5/lib/python3.6/site-packages (from traitlets>=4.2->ipython>=5.3.0->cufflinks) (0.2.0)\n",
      "Requirement already satisfied: wcwidth in /share/apps/python/3.6.5/lib/python3.6/site-packages (from prompt-toolkit<2.1.0,>=2.0.0->ipython>=5.3.0->cufflinks) (0.1.7)\n",
      "Requirement already satisfied: ptyprocess>=0.5 in /share/apps/python/3.6.5/lib/python3.6/site-packages (from pexpect; sys_platform != \"win32\"->ipython>=5.3.0->cufflinks) (0.6.0)\n",
      "Requirement already satisfied: jupyter-core in /share/apps/python/3.6.5/lib/python3.6/site-packages (from nbformat>=4.2.0->ipywidgets>=7.0.0->cufflinks) (4.4.0)\n",
      "Requirement already satisfied: jsonschema!=2.5.0,>=2.4 in /share/apps/python/3.6.5/lib/python3.6/site-packages (from nbformat>=4.2.0->ipywidgets>=7.0.0->cufflinks) (2.6.0)\n",
      "Requirement already satisfied: tornado>=4.2 in /share/apps/python/3.6.5/lib/python3.6/site-packages (from ipykernel>=4.5.1->ipywidgets>=7.0.0->cufflinks) (5.1.1)\n",
      "Requirement already satisfied: jupyter-client in /share/apps/python/3.6.5/lib/python3.6/site-packages (from ipykernel>=4.5.1->ipywidgets>=7.0.0->cufflinks) (5.2.4)\n",
      "Requirement already satisfied: notebook>=4.4.1 in /share/apps/python/3.6.5/lib/python3.6/site-packages (from widgetsnbextension~=3.4.0->ipywidgets>=7.0.0->cufflinks) (5.7.4)\n",
      "Requirement already satisfied: pyzmq>=13 in /share/apps/python/3.6.5/lib/python3.6/site-packages (from jupyter-client->ipykernel>=4.5.1->ipywidgets>=7.0.0->cufflinks) (18.0.0)\n",
      "Requirement already satisfied: Send2Trash in /share/apps/python/3.6.5/lib/python3.6/site-packages (from notebook>=4.4.1->widgetsnbextension~=3.4.0->ipywidgets>=7.0.0->cufflinks) (1.5.0)\n",
      "Requirement already satisfied: prometheus-client in /share/apps/python/3.6.5/lib/python3.6/site-packages (from notebook>=4.4.1->widgetsnbextension~=3.4.0->ipywidgets>=7.0.0->cufflinks) (0.5.0)\n",
      "Requirement already satisfied: terminado>=0.8.1 in /share/apps/python/3.6.5/lib/python3.6/site-packages (from notebook>=4.4.1->widgetsnbextension~=3.4.0->ipywidgets>=7.0.0->cufflinks) (0.8.1)\n",
      "Requirement already satisfied: nbconvert in /share/apps/python/3.6.5/lib/python3.6/site-packages (from notebook>=4.4.1->widgetsnbextension~=3.4.0->ipywidgets>=7.0.0->cufflinks) (5.4.1)\n",
      "Requirement already satisfied: jinja2 in /share/apps/python/3.6.5/lib/python3.6/site-packages (from notebook>=4.4.1->widgetsnbextension~=3.4.0->ipywidgets>=7.0.0->cufflinks) (2.10)\n",
      "Requirement already satisfied: bleach in /share/apps/python/3.6.5/lib/python3.6/site-packages (from nbconvert->notebook>=4.4.1->widgetsnbextension~=3.4.0->ipywidgets>=7.0.0->cufflinks) (3.1.0)\n",
      "Requirement already satisfied: pandocfilters>=1.4.1 in /share/apps/python/3.6.5/lib/python3.6/site-packages (from nbconvert->notebook>=4.4.1->widgetsnbextension~=3.4.0->ipywidgets>=7.0.0->cufflinks) (1.4.2)\n",
      "Requirement already satisfied: defusedxml in /share/apps/python/3.6.5/lib/python3.6/site-packages (from nbconvert->notebook>=4.4.1->widgetsnbextension~=3.4.0->ipywidgets>=7.0.0->cufflinks) (0.5.0)\n",
      "Requirement already satisfied: mistune>=0.8.1 in /share/apps/python/3.6.5/lib/python3.6/site-packages (from nbconvert->notebook>=4.4.1->widgetsnbextension~=3.4.0->ipywidgets>=7.0.0->cufflinks) (0.8.4)\n",
      "Requirement already satisfied: testpath in /share/apps/python/3.6.5/lib/python3.6/site-packages (from nbconvert->notebook>=4.4.1->widgetsnbextension~=3.4.0->ipywidgets>=7.0.0->cufflinks) (0.4.2)\n",
      "Requirement already satisfied: entrypoints>=0.2.2 in /share/apps/python/3.6.5/lib/python3.6/site-packages (from nbconvert->notebook>=4.4.1->widgetsnbextension~=3.4.0->ipywidgets>=7.0.0->cufflinks) (0.3)\n",
      "Requirement already satisfied: MarkupSafe>=0.23 in /share/apps/python/3.6.5/lib/python3.6/site-packages (from jinja2->notebook>=4.4.1->widgetsnbextension~=3.4.0->ipywidgets>=7.0.0->cufflinks) (1.1.0)\n",
      "Requirement already satisfied: webencodings in /share/apps/python/3.6.5/lib/python3.6/site-packages (from bleach->nbconvert->notebook>=4.4.1->widgetsnbextension~=3.4.0->ipywidgets>=7.0.0->cufflinks) (0.5.1)\n",
      "Installing collected packages: colorlover, cufflinks\n",
      "\u001b[31mCould not install packages due to an EnvironmentError: [Errno 13] Permission denied: '/share/apps/python/3.6.5/lib/python3.6/site-packages/colorlover'\n",
      "Consider using the `--user` option or check the permissions.\n",
      "\u001b[0m\n",
      "\u001b[33mYou are using pip version 10.0.1, however version 20.1 is available.\r\n",
      "You should consider upgrading via the 'pip install --upgrade pip' command.\u001b[0m\r\n"
     ]
    }
   ],
   "source": [
    "# Importing necessay packages\n",
    "\n",
    "sc.stop()\n",
    "import sys\n",
    "from pyspark.context import SparkContext\n",
    "from pyspark.sql.session import SparkSession\n",
    "from pyspark.sql.functions import format_string\n",
    "from pyspark.sql.functions import *\n",
    "from pyspark.sql.types import *\n",
    "from pyspark.sql.functions import col, avg\n",
    "from pyspark.sql import functions as F\n",
    "                             \n",
    "from pyspark.ml.feature import VectorAssembler\n",
    "from pyspark.sql.types import IntegerType\n",
    "from pyspark.mllib.regression import LabeledPoint\n",
    "from pyspark.sql.functions import col\n",
    "from pyspark.ml.feature import VectorAssembler\n",
    "from pyspark.ml.classification import LogisticRegression\n",
    "from pyspark.mllib.classification import LogisticRegressionWithSGD\n",
    "from pyspark.mllib.classification import LogisticRegressionWithLBFGS\n",
    "from pyspark.mllib.classification import SVMWithSGD\n",
    "!pip install plotly\n",
    "!pip install cufflinks\n",
    "\n",
    "from pyspark.sql import DataFrame\n",
    "!HADOOP_LIBPATH='/opt/cloudera/parcels/CDH/lib'\n",
    "!HADOOP_STREAMING='hadoop-mapreduce/hadoop-streaming.jar'\n",
    "\n",
    "!alias hfs=\"$HADOOP_EXE fs\"\n",
    "\n",
    "sc = SparkContext()\n",
    "spark = SparkSession(sc)"
   ]
  },
  {
   "cell_type": "code",
   "execution_count": 2,
   "metadata": {},
   "outputs": [],
   "source": [
    "%matplotlib inline\n",
    "from IPython.display import Image, HTML\n",
    "import json\n",
    "import datetime\n",
    "import ast\n",
    "import pandas as pd\n",
    "import matplotlib.pyplot as plt\n",
    "import seaborn as sns\n",
    "import numpy as np\n",
    "from scipy import stats\n",
    "import warnings\n",
    "warnings.filterwarnings('ignore')\n",
    "sns.set_style('whitegrid')\n",
    "sns.set(font_scale=1.25)\n",
    "pd.set_option('display.max_colwidth', 50)"
   ]
  },
  {
   "cell_type": "code",
   "execution_count": 3,
   "metadata": {},
   "outputs": [
    {
     "name": "stdout",
     "output_type": "stream",
     "text": [
      "Archive:  ./the-movies-dataset.zip\n",
      "  inflating: credits.csv             \n",
      "  inflating: keywords.csv            \n",
      "  inflating: links.csv               \n",
      "  inflating: links_small.csv         \n",
      "  inflating: movies_metadata.csv     \n",
      "  inflating: ratings.csv             \n",
      "  inflating: ratings_small.csv       \n"
     ]
    }
   ],
   "source": [
    "# Unzipping the Dataset zip file\n",
    "\n",
    "!unzip './the-movies-dataset.zip'"
   ]
  },
  {
   "cell_type": "code",
   "execution_count": 4,
   "metadata": {},
   "outputs": [
    {
     "name": "stdout",
     "output_type": "stream",
     "text": [
      "put: `credits.csv': File exists\n",
      "put: `keywords.csv': File exists\n",
      "put: `links.csv': File exists\n",
      "put: `links_small.csv': File exists\n",
      "put: `movies_metadata.csv': File exists\n",
      "put: `ratings.csv': File exists\n",
      "put: `ratings_small.csv': File exists\n"
     ]
    }
   ],
   "source": [
    "# Moving the data files to HDFS\n",
    "\n",
    "!hadoop fs -put credits.csv\n",
    "!hadoop fs -put keywords.csv\n",
    "!hadoop fs -put links.csv\n",
    "!hadoop fs -put links_small.csv\n",
    "!hadoop fs -put movies_metadata.csv\n",
    "!hadoop fs -put ratings.csv\n",
    "!hadoop fs -put ratings_small.csv\n"
   ]
  },
  {
   "cell_type": "markdown",
   "metadata": {},
   "source": [
    "## Data Cleaning Steps (common to all EDA tasks)"
   ]
  },
  {
   "cell_type": "code",
   "execution_count": 5,
   "metadata": {},
   "outputs": [
    {
     "data": {
      "text/plain": [
       "Row(adult='False', belongs_to_collection=\"{'id': 10194, 'name': 'Toy Story Collection', 'poster_path': '/7G9915LfUQ2lVfwMEEhDsn3kT4B.jpg', 'backdrop_path': '/9FBwqcd9IRruEDUrTdcaafOMKUq.jpg'}\", budget='30000000', genres=\"[{'id': 16, 'name': 'Animation'}, {'id': 35, 'name': 'Comedy'}, {'id': 10751, 'name': 'Family'}]\", homepage='http://toystory.disney.com/toy-story', id='862', imdb_id='tt0114709', original_language='en', original_title='Toy Story', overview=\"Led by Woody, Andy's toys live happily in his room until Andy's birthday brings Buzz Lightyear onto the scene. Afraid of losing his place in Andy's heart, Woody plots against Buzz. But when circumstances separate Buzz and Woody from their owner, the duo eventually learns to put aside their differences.\", popularity='21.946943', poster_path='/rhIRbceoE9lR4veEXuwCC2wARtG.jpg', production_companies=\"[{'name': 'Pixar Animation Studios', 'id': 3}]\", production_countries=\"[{'iso_3166_1': 'US', 'name': 'United States of America'}]\", release_date='1995-10-30', revenue='373554033', runtime='81.0', spoken_languages=\"[{'iso_639_1': 'en', 'name': 'English'}]\", status='Released', tagline=None, title='Toy Story', video='False', vote_average='7.7', vote_count='5415')"
      ]
     },
     "execution_count": 5,
     "metadata": {},
     "output_type": "execute_result"
    }
   ],
   "source": [
    "# Reading Movies Metadata file to a spark dataframe\n",
    "\n",
    "df_movies_metadata = spark.read.format(\"csv\").option(\"header\",\"true\").load(\"movies_metadata.csv\")\n",
    "df_movies_metadata.head()"
   ]
  },
  {
   "cell_type": "code",
   "execution_count": 6,
   "metadata": {},
   "outputs": [
    {
     "data": {
      "text/plain": [
       "['adult',\n",
       " 'belongs_to_collection',\n",
       " 'budget',\n",
       " 'genres',\n",
       " 'homepage',\n",
       " 'id',\n",
       " 'imdb_id',\n",
       " 'original_language',\n",
       " 'original_title',\n",
       " 'overview',\n",
       " 'popularity',\n",
       " 'poster_path',\n",
       " 'production_companies',\n",
       " 'production_countries',\n",
       " 'release_date',\n",
       " 'revenue',\n",
       " 'runtime',\n",
       " 'spoken_languages',\n",
       " 'status',\n",
       " 'tagline',\n",
       " 'title',\n",
       " 'video',\n",
       " 'vote_average',\n",
       " 'vote_count']"
      ]
     },
     "execution_count": 6,
     "metadata": {},
     "output_type": "execute_result"
    }
   ],
   "source": [
    "# Columns of Movies-Metadata\n",
    "\n",
    "df_movies_metadata.columns"
   ]
  },
  {
   "cell_type": "code",
   "execution_count": 7,
   "metadata": {},
   "outputs": [
    {
     "name": "stdout",
     "output_type": "stream",
     "text": [
      "Number of Entries in Meta data dataframe: 45572\n"
     ]
    }
   ],
   "source": [
    "# Number of Entries in Movies-meta data\n",
    "\n",
    "print(\"Number of Entries in Meta data dataframe:\",df_movies_metadata.count())"
   ]
  },
  {
   "cell_type": "code",
   "execution_count": 8,
   "metadata": {},
   "outputs": [
    {
     "name": "stdout",
     "output_type": "stream",
     "text": [
      "+-------+-------------------+---------------------+--------------------+--------------------+--------------------+--------------------+--------------------+------------------+------------------+--------------------+--------------------+--------------------+--------------------+--------------------+--------------------+--------------------+--------------------+--------------------+--------------------+--------------------+--------+------------------+------------------+--------------------+\n",
      "|summary|              adult|belongs_to_collection|              budget|              genres|            homepage|                  id|             imdb_id| original_language|    original_title|            overview|          popularity|         poster_path|production_companies|production_countries|        release_date|             revenue|             runtime|    spoken_languages|              status|             tagline|   title|             video|      vote_average|          vote_count|\n",
      "+-------+-------------------+---------------------+--------------------+--------------------+--------------------+--------------------+--------------------+------------------+------------------+--------------------+--------------------+--------------------+--------------------+--------------------+--------------------+--------------------+--------------------+--------------------+--------------------+--------------------+--------+------------------+------------------+--------------------+\n",
      "|  count|              45572|                 4591|               45555|               45549|                7937|               45541|               45447|             45527|             45540|               44587|               45452|               45091|               45448|               45452|               45378|               45436|               45168|               45408|               45327|               22440|   44794|             45019|             45074|               45183|\n",
      "|   mean|               null|   1.5354219545454546|   4203051.501341431|  1.3762527647058822|  1.20138598385652E7|  108472.07353084827|  3192598.2306698407|40425.985977624114|          Infinity|   61.84533946428571|  3.1106206005800416|    46144.4398346031|  3.5551602112125193|   2.744871749529189|   9.423253799999996|1.1206018808585253E7|  293405.09809016186|   5608877.629380201|   2768004.114455496|   3069067.330101197|Infinity|254436.28771001368|20598.944891606156|     4478.2556262012|\n",
      "| stddev|               null|   2.8947605310025293|1.7390388213250447E7|  1.4278676612523276|2.5757755423365697E7|  112491.49204501462|1.5959850652741542E7| 75151.75502384249|               NaN|   52.90864238731892|  17.895195212421676|  1374126.2186866328|   7.798204492777607|    5.13682109842022|  102.16439163497273|6.4880927370764084E7|    9024684.88285565| 3.837398626293824E7|1.9379730911569547E7| 4.092906602844209E7|     NaN|2549120.9999266504| 2176632.420832573|   389883.2986878286|\n",
      "|    min| (Post-apocalypse)\"|  \"\"NO DOWN PAYMEN...| \"\"The Adventure ...|  \"\"His Last Bow\"\".\"| 'backdrop_path':...|              1978.\"|             252 252|    Rachel Roberts|       Janice Rule|                    | \"\" a fearful soc...|  Simon Sparrow's...| \"\"A Woman in the...|  The Kentucky Fr...|  and Saturday Ni...| \"\"An Affirmative...| \"\"Prosecuting Ca...| \"\"Slave of Love\"...| \"\"Nightmare on E...| \"\"Playboy After ...|        |      'id': 10254}|      \"\"Raw Deal\"\"| \"\"Taking Chances...|\n",
      "|    max|               True| {'id': 99727, 'na...|              998000|[{'name': 'WhiteF...|https://zeitgeist...|[{'name': 'Warner...|           tt7158814|                zu|ＳＭガールズ セイバーマリオネットＲ|…ere erera baleib...|                  귀향|” takes the trope...|who lives with ec...|if you like Japan...|Приключения Шерло...|[{'name': 'Ритм',...|” \"\"Revue\"\" illus...|[{'name': 'mark e...|violence and non-...|            李麗珍蜜桃成熟時|劇場版 クラナド|         ¡Cuba Sí!|        Üvegtigris|       Убить дракона|\n",
      "+-------+-------------------+---------------------+--------------------+--------------------+--------------------+--------------------+--------------------+------------------+------------------+--------------------+--------------------+--------------------+--------------------+--------------------+--------------------+--------------------+--------------------+--------------------+--------------------+--------------------+--------+------------------+------------------+--------------------+\n",
      "\n"
     ]
    }
   ],
   "source": [
    "# Column datatypes of movies_metadata dataframe\n",
    "#CHANGE: to show the describe elements\n",
    "df_movies_metadata.describe().show()"
   ]
  },
  {
   "cell_type": "code",
   "execution_count": 9,
   "metadata": {},
   "outputs": [
    {
     "name": "stdout",
     "output_type": "stream",
     "text": [
      "+--------------------+--------------------+\n",
      "|      original_title|               title|\n",
      "+--------------------+--------------------+\n",
      "|   Waiting to Exhale|[{'iso_639_1': 'e...|\n",
      "|          Get Shorty|               105.0|\n",
      "|La Cité des Enfan...| {'name': 'Victoi...|\n",
      "|           摇啊摇，摇到外婆桥|      Shanghai Triad|\n",
      "|Guillaumet, les a...|    Wings of Courage|\n",
      "|     Dead Presidents|[{'iso_639_1': 'e...|\n",
      "|               Se7en|[{'iso_639_1': 'e...|\n",
      "|          Il postino|         The Postman|\n",
      "|    Le confessionnal|    The Confessional|\n",
      "|            Bio-Dome|Bud and Doyle are...|\n",
      "+--------------------+--------------------+\n",
      "only showing top 10 rows\n",
      "\n"
     ]
    },
    {
     "data": {
      "text/plain": [
       "['adult',\n",
       " 'belongs_to_collection',\n",
       " 'budget',\n",
       " 'genres',\n",
       " 'homepage',\n",
       " 'id',\n",
       " 'original_language',\n",
       " 'overview',\n",
       " 'popularity',\n",
       " 'poster_path',\n",
       " 'production_companies',\n",
       " 'production_countries',\n",
       " 'release_date',\n",
       " 'revenue',\n",
       " 'runtime',\n",
       " 'spoken_languages',\n",
       " 'status',\n",
       " 'tagline',\n",
       " 'title',\n",
       " 'video',\n",
       " 'vote_average',\n",
       " 'vote_count']"
      ]
     },
     "execution_count": 9,
     "metadata": {},
     "output_type": "execute_result"
    }
   ],
   "source": [
    "# Data Cleaning\n",
    "\n",
    "# Dropping Unnecessary columns (imdb_id)\n",
    "\n",
    "df_movies_metadata = df_movies_metadata.drop(\"imdb_id\")\n",
    "\n",
    "# Removing original_title and retaining the translated title\n",
    "#CHANGED THE BELOW LINE to only show the rows where the title and original title are different\n",
    "df_movies_metadata.select([\"original_title\",\"title\"]).filter(\"original_title!=title\").show(10)\n",
    "\n",
    "df_movies_metadata = df_movies_metadata.drop(\"original_title\")\n",
    "\n",
    "# Updated Columns of Movies-Metadata\n",
    "\n",
    "df_movies_metadata.columns"
   ]
  },
  {
   "cell_type": "code",
   "execution_count": 10,
   "metadata": {},
   "outputs": [
    {
     "name": "stdout",
     "output_type": "stream",
     "text": [
      "Before replacing Zero values\n",
      "+--------------------+--------+\n",
      "|             revenue|  budget|\n",
      "+--------------------+--------+\n",
      "|           373554033|30000000|\n",
      "|           262797249|65000000|\n",
      "|                   0|       0|\n",
      "|[{'name': 'Twenti...|16000000|\n",
      "|            76578911|       0|\n",
      "|           187436818|60000000|\n",
      "|                   0|58000000|\n",
      "|                   0|       0|\n",
      "|            64350171|35000000|\n",
      "|           352194034|58000000|\n",
      "|           107879496|62000000|\n",
      "|                   0|       0|\n",
      "|            11348324|       0|\n",
      "|            13681765|44000000|\n",
      "|            10017322|98000000|\n",
      "|           116112375|52000000|\n",
      "|           135000000|16500000|\n",
      "|             4300000| 4000000|\n",
      "|           212385533|30000000|\n",
      "|            35431113|60000000|\n",
      "+--------------------+--------+\n",
      "only showing top 20 rows\n",
      "\n",
      "Number of Movie records with Revenue as 0\n",
      "34799\n",
      "After replacing Zero values\n",
      "+------------+--------+\n",
      "|     revenue|  budget|\n",
      "+------------+--------+\n",
      "|3.73554033E8|30000000|\n",
      "|2.62797249E8|65000000|\n",
      "|         NaN|       0|\n",
      "|         NaN|16000000|\n",
      "| 7.6578911E7|       0|\n",
      "|1.87436818E8|60000000|\n",
      "|         NaN|58000000|\n",
      "|         NaN|       0|\n",
      "| 6.4350171E7|35000000|\n",
      "|3.52194034E8|58000000|\n",
      "|1.07879496E8|62000000|\n",
      "|         NaN|       0|\n",
      "| 1.1348324E7|       0|\n",
      "| 1.3681765E7|44000000|\n",
      "| 1.0017322E7|98000000|\n",
      "|1.16112375E8|52000000|\n",
      "|      1.35E8|16500000|\n",
      "|   4300000.0| 4000000|\n",
      "|2.12385533E8|30000000|\n",
      "| 3.5431113E7|60000000|\n",
      "+------------+--------+\n",
      "only showing top 20 rows\n",
      "\n"
     ]
    }
   ],
   "source": [
    "# Presence of Zero-revenue movies\n",
    "print(\"Before replacing Zero values\")\n",
    "df_movies_metadata.select(\"revenue\",\"budget\").show()\n",
    "\n",
    "print(\"Number of Movie records with Revenue as 0\")\n",
    "print(df_movies_metadata.filter(df_movies_metadata.revenue=='0').count())\n",
    "\n",
    "print(\"After replacing Zero values\")\n",
    "df_movies_metadata = df_movies_metadata.withColumn(\"revenue\", df_movies_metadata[\"revenue\"].cast(IntegerType()))\n",
    "df_movies_metadata = df_movies_metadata.withColumn(\"revenue\", F.when(F.col(\"revenue\").isNull(), np.nan).otherwise(F.col(\"revenue\")))\n",
    "df_movies_metadata = df_movies_metadata.withColumn(\"revenue\", F.when(F.col(\"revenue\")=='0', np.nan).otherwise(F.col(\"revenue\")))\n",
    "df_movies_metadata.select([\"revenue\",\"budget\"]).show()"
   ]
  },
  {
   "cell_type": "code",
   "execution_count": 11,
   "metadata": {},
   "outputs": [
    {
     "name": "stdout",
     "output_type": "stream",
     "text": [
      "+-------+-------------------+\n",
      "|summary|             budget|\n",
      "+-------+-------------------+\n",
      "|  count|              45370|\n",
      "|   mean|  4203051.501212255|\n",
      "| stddev|1.739038821328166E7|\n",
      "|    min|                  0|\n",
      "|    max|          380000000|\n",
      "+-------+-------------------+\n",
      "\n",
      "+---------+\n",
      "|   budget|\n",
      "+---------+\n",
      "|    3.0E7|\n",
      "|    6.5E7|\n",
      "|      NaN|\n",
      "|    1.6E7|\n",
      "|      NaN|\n",
      "|    6.0E7|\n",
      "|    5.8E7|\n",
      "|      NaN|\n",
      "|    3.5E7|\n",
      "|    5.8E7|\n",
      "|    6.2E7|\n",
      "|      NaN|\n",
      "|      NaN|\n",
      "|    4.4E7|\n",
      "|    9.8E7|\n",
      "|    5.2E7|\n",
      "|   1.65E7|\n",
      "|4000000.0|\n",
      "|    3.0E7|\n",
      "|    6.0E7|\n",
      "+---------+\n",
      "only showing top 20 rows\n",
      "\n",
      "+-------+------+\n",
      "|summary|budget|\n",
      "+-------+------+\n",
      "|  count| 45370|\n",
      "|   mean|   NaN|\n",
      "| stddev|   NaN|\n",
      "|    min|   1.0|\n",
      "|    max|   NaN|\n",
      "+-------+------+\n",
      "\n"
     ]
    }
   ],
   "source": [
    "# Casting Budget to IntegerType and replacing zero budget entries to NaN\n",
    "\n",
    "df_movies_metadata = df_movies_metadata.withColumn(\"budget\", df_movies_metadata[\"budget\"].cast(IntegerType()))\n",
    "#CHANGE: 1 line\n",
    "df_movies_metadata.describe(\"budget\").show()\n",
    "\n",
    "df_movies_metadata = df_movies_metadata.withColumn(\"budget\", F.when(F.col(\"budget\")==0, np.nan).otherwise(F.col(\"budget\")))\n",
    "df_movies_metadata.select(\"budget\").show()\n",
    "\n",
    "#CHANGE: 1 line.\n",
    "df_movies_metadata.describe(\"budget\").show()\n"
   ]
  },
  {
   "cell_type": "code",
   "execution_count": 12,
   "metadata": {},
   "outputs": [
    {
     "name": "stdout",
     "output_type": "stream",
     "text": [
      "+------------+---------+-------------------+\n",
      "|     revenue|   budget|             return|\n",
      "+------------+---------+-------------------+\n",
      "|3.73554033E8|    3.0E7|         12.4518011|\n",
      "|2.62797249E8|    6.5E7|          4.0430346|\n",
      "|         NaN|      NaN|                NaN|\n",
      "|         NaN|    1.6E7|                NaN|\n",
      "| 7.6578911E7|      NaN|                NaN|\n",
      "|1.87436818E8|    6.0E7|  3.123946966666667|\n",
      "|         NaN|    5.8E7|                NaN|\n",
      "|         NaN|      NaN|                NaN|\n",
      "| 6.4350171E7|    3.5E7| 1.8385763142857143|\n",
      "|3.52194034E8|    5.8E7|  6.072310931034483|\n",
      "|1.07879496E8|    6.2E7|  1.739991870967742|\n",
      "|         NaN|      NaN|                NaN|\n",
      "| 1.1348324E7|      NaN|                NaN|\n",
      "| 1.3681765E7|    4.4E7|0.31094920454545455|\n",
      "| 1.0017322E7|    9.8E7|0.10221757142857144|\n",
      "|1.16112375E8|    5.2E7| 2.2329302884615383|\n",
      "|      1.35E8|   1.65E7|  8.181818181818182|\n",
      "|   4300000.0|4000000.0|              1.075|\n",
      "|2.12385533E8|    3.0E7|  7.079517766666667|\n",
      "| 3.5431113E7|    6.0E7|         0.59051855|\n",
      "+------------+---------+-------------------+\n",
      "only showing top 20 rows\n",
      "\n"
     ]
    }
   ],
   "source": [
    "# Creating a New column called Return : (Revenue/Budget) to assess the success of movies\n",
    "\n",
    "df_movies_metadata = df_movies_metadata.withColumn(\"return\",df_movies_metadata[\"revenue\"]/df_movies_metadata[\"budget\"])\n",
    "df_movies_metadata.select([\"revenue\",\"budget\",\"return\"]).show()"
   ]
  },
  {
   "cell_type": "code",
   "execution_count": 13,
   "metadata": {},
   "outputs": [],
   "source": [
    "# Extracting and creating a year column from release date of movie \n",
    "df_movies_metadata = df_movies_metadata.withColumn(\"year\", year(df_movies_metadata[\"release_date\"]).alias('year'))"
   ]
  },
  {
   "cell_type": "code",
   "execution_count": 14,
   "metadata": {},
   "outputs": [
    {
     "name": "stdout",
     "output_type": "stream",
     "text": [
      "Number of Adult Movies: 9\n",
      "Therefore,we can safely remove that column\n"
     ]
    }
   ],
   "source": [
    "# Dropping Adult column as very few movies qualify as Adult\n",
    "\n",
    "print(\"Number of Adult Movies:\",df_movies_metadata.filter(df_movies_metadata[\"adult\"]==True).select(\"adult\").count())\n",
    "print(\"Therefore,we can safely remove that column\")\n",
    "df_movies_metadata = df_movies_metadata.drop(\"adult\")\n"
   ]
  },
  {
   "cell_type": "markdown",
   "metadata": {},
   "source": [
    "## Budget Analysis"
   ]
  },
  {
   "cell_type": "code",
   "execution_count": 15,
   "metadata": {},
   "outputs": [
    {
     "name": "stdout",
     "output_type": "stream",
     "text": [
      "+-------+--------------------+\n",
      "|summary|              budget|\n",
      "+-------+--------------------+\n",
      "|  count|                8851|\n",
      "|   mean|2.1544734675177947E7|\n",
      "| stddev| 3.430310086924772E7|\n",
      "|    min|                 1.0|\n",
      "|    max|               3.8E8|\n",
      "+-------+--------------------+\n",
      "\n"
     ]
    },
    {
     "data": {
      "text/plain": [
       "<matplotlib.axes._subplots.AxesSubplot at 0x7fe29a5046a0>"
      ]
     },
     "execution_count": 15,
     "metadata": {},
     "output_type": "execute_result"
    },
    {
     "data": {
      "image/png": "[encoded data removed]",
      "text/plain": [
       "<Figure size 432x288 with 1 Axes>"
      ]
     },
     "metadata": {
      "needs_background": "light"
     },
     "output_type": "display_data"
    }
   ],
   "source": [
    "#Budget Analysis\n",
    "#Insights from Summary Statistics\n",
    "df_movies_metadata.filter(isnan(df_movies_metadata['budget'])==False).describe(\"budget\").show()\n",
    "\n",
    "sns.distplot(df_movies_metadata.filter((isnan(df_movies_metadata['budget'])==False) & (df_movies_metadata['budget'].isNotNull())).select('budget').collect())"
   ]
  },
  {
   "cell_type": "code",
   "execution_count": 16,
   "metadata": {},
   "outputs": [
    {
     "data": {
      "text/plain": [
       "<matplotlib.axes._subplots.AxesSubplot at 0x7fe29a419f60>"
      ]
     },
     "execution_count": 16,
     "metadata": {},
     "output_type": "execute_result"
    },
    {
     "data": {
      "image/png": "[encoded data removed]",
      "text/plain": [
       "<Figure size 432x288 with 1 Axes>"
      ]
     },
     "metadata": {
      "needs_background": "light"
     },
     "output_type": "display_data"
    }
   ],
   "source": [
    "#The distribution of movie budgets shows an exponential decay below\n",
    "# .collect().plot(logy=True, kind='hist')\n",
    "t = df_movies_metadata.toPandas()\n",
    "t['budget'].plot(logy=True, kind='hist')"
   ]
  },
  {
   "cell_type": "code",
   "execution_count": 17,
   "metadata": {},
   "outputs": [
    {
     "name": "stdout",
     "output_type": "stream",
     "text": [
      "+--------------------+------+-------------+-------------------+----+\n",
      "|               title|budget|      revenue|             return|year|\n",
      "+--------------------+------+-------------+-------------------+----+\n",
      "|Pirates of the Ca...| 3.8E8|1.045713802E9| 2.7518784263157894|2011|\n",
      "|Pirates of the Ca...| 3.0E8|       9.61E8|  3.203333333333333|2007|\n",
      "|Avengers: Age of ...| 2.8E8|1.405403694E9|  5.019298907142857|2015|\n",
      "|    Superman Returns| 2.7E8| 3.91081192E8| 1.4484488592592593|2006|\n",
      "|Transformers: The...| 2.6E8| 6.04942143E8|         2.32670055|2017|\n",
      "|         John Carter| 2.6E8|   2.841391E8| 1.0928426923076924|2012|\n",
      "|             Tangled| 2.6E8| 5.91794936E8| 2.2761343692307694|2010|\n",
      "|        Spider-Man 3|2.58E8| 8.90871626E8| 3.4529907984496124|2007|\n",
      "|     The Lone Ranger|2.55E8|   8.928991E7|0.35015650980392155|2013|\n",
      "|Harry Potter and ...| 2.5E8| 9.54305868E8|        3.817223472|2010|\n",
      "|The Hobbit: The D...| 2.5E8|      9.584E8|             3.8336|2013|\n",
      "|The Hobbit: An Un...| 2.5E8|1.021103568E9|        4.084414272|2012|\n",
      "|The Hobbit: The B...| 2.5E8| 9.56019788E8|        3.824079152|2014|\n",
      "|Harry Potter and ...| 2.5E8| 9.33959197E8|        3.735836788|2009|\n",
      "|Captain America: ...| 2.5E8|1.153304495E9|         4.61321798|2016|\n",
      "|Batman v Superman...| 2.5E8| 8.73260194E8|        3.493040776|2016|\n",
      "|The Fate of the F...| 2.5E8|1.238764765E9|         4.95505906|2017|\n",
      "| {'name': 'Down P...| 2.5E8|          NaN|                NaN|null|\n",
      "|The Dark Knight R...| 2.5E8|1.084939099E9|        4.339756396|2012|\n",
      "|             Spectre|2.45E8| 8.80674609E8| 3.5945902408163266|2015|\n",
      "+--------------------+------+-------------+-------------------+----+\n",
      "only showing top 20 rows\n",
      "\n"
     ]
    }
   ],
   "source": [
    "#Most Expensive Movies of all Time\n",
    "a = df_movies_metadata.filter(isnan(df_movies_metadata['budget'])==False).select('title', 'budget', 'revenue', 'return', 'year').orderBy('budget', ascending=False)\n",
    "a.show()"
   ]
  },
  {
   "cell_type": "code",
   "execution_count": 18,
   "metadata": {},
   "outputs": [
    {
     "data": {
      "text/plain": [
       "<seaborn.axisgrid.JointGrid at 0x7fe23c1c15f8>"
      ]
     },
     "execution_count": 18,
     "metadata": {},
     "output_type": "execute_result"
    },
    {
     "data": {
      "image/png": "[encoded data removed]",
      "text/plain": [
       "<Figure size 432x432 with 3 Axes>"
      ]
     },
     "metadata": {
      "needs_background": "light"
     },
     "output_type": "display_data"
    }
   ],
   "source": [
    "test = df_movies_metadata.filter(df_movies_metadata['return'].isNotNull()).toPandas()\n",
    "sns.jointplot(x='budget',y='revenue',data=test)"
   ]
  },
  {
   "cell_type": "markdown",
   "metadata": {},
   "source": [
    "## Revenue Analysis"
   ]
  },
  {
   "cell_type": "code",
   "execution_count": 19,
   "metadata": {},
   "outputs": [
    {
     "name": "stdout",
     "output_type": "stream",
     "text": [
      "+-------+--------------------+\n",
      "|summary|             revenue|\n",
      "+-------+--------------------+\n",
      "|  count|                6937|\n",
      "|   mean| 6.728491089217241E7|\n",
      "| stddev|1.4331653639426452E8|\n",
      "|    min|                 1.0|\n",
      "|    max|       2.068223624E9|\n",
      "+-------+--------------------+\n",
      "\n"
     ]
    },
    {
     "data": {
      "text/plain": [
       "<matplotlib.axes._subplots.AxesSubplot at 0x7fe238c7c6d8>"
      ]
     },
     "execution_count": 19,
     "metadata": {},
     "output_type": "execute_result"
    },
    {
     "data": {
      "image/png": "[encoded data removed]",
      "text/plain": [
       "<Figure size 432x288 with 1 Axes>"
      ]
     },
     "metadata": {
      "needs_background": "light"
     },
     "output_type": "display_data"
    }
   ],
   "source": [
    "#13) Revenue Analysis\n",
    "#Insights from Summary Statistics\n",
    "df_movies_metadata.filter(isnan(df_movies_metadata['revenue'])==False).describe(\"revenue\").show()\n",
    "\n",
    "sns.distplot(df_movies_metadata.filter((isnan(df_movies_metadata['revenue'])==False) & (df_movies_metadata['revenue'].isNotNull())).select('revenue').collect())"
   ]
  },
  {
   "cell_type": "code",
   "execution_count": 20,
   "metadata": {},
   "outputs": [
    {
     "name": "stdout",
     "output_type": "stream",
     "text": [
      "+--------------------+------+-------------+----+\n",
      "|               title|budget|      revenue|year|\n",
      "+--------------------+------+-------------+----+\n",
      "|Star Wars: The Fo...|2.45E8|2.068223624E9|2015|\n",
      "|             Titanic| 2.0E8|1.845034188E9|1997|\n",
      "|        The Avengers| 2.2E8| 1.51955791E9|2012|\n",
      "|      Jurassic World| 1.5E8| 1.51352881E9|2015|\n",
      "|           Furious 7| 1.9E8| 1.50624936E9|2015|\n",
      "|Avengers: Age of ...| 2.8E8|1.405403694E9|2015|\n",
      "|Harry Potter and ...|1.25E8|      1.342E9|2011|\n",
      "|              Frozen| 1.5E8|1.274219009E9|2013|\n",
      "|Beauty and the Beast| 1.6E8|1.262886337E9|2017|\n",
      "|The Fate of the F...| 2.5E8|1.238764765E9|2017|\n",
      "|          Iron Man 3| 2.0E8|1.215439994E9|2013|\n",
      "|             Minions| 7.4E7|1.156730962E9|2015|\n",
      "|Captain America: ...| 2.5E8|1.153304495E9|2016|\n",
      "|Transformers: Dar...|1.95E8|1.123746996E9|2011|\n",
      "|The Lord of the R...| 9.4E7|1.118888979E9|2003|\n",
      "|             Skyfall| 2.0E8|1.108561013E9|2012|\n",
      "|The Dark Knight R...| 2.5E8|1.084939099E9|2012|\n",
      "|         Toy Story 3| 2.0E8|1.066969703E9|2010|\n",
      "|Pirates of the Ca...| 2.0E8|1.065659812E9|2006|\n",
      "|Rogue One: A Star...| 2.0E8|1.056057273E9|2016|\n",
      "+--------------------+------+-------------+----+\n",
      "only showing top 20 rows\n",
      "\n"
     ]
    }
   ],
   "source": [
    "#Highest Grossing Films of All Time\n",
    "gross_top = df_movies_metadata.filter(isnan(df_movies_metadata['revenue'])==False).select('title', 'budget', 'revenue', 'year').orderBy('revenue', ascending=False)\n",
    "gross_top.show()\n",
    "# gross_top = gross_top.toPandas()\n",
    "# HTML(gross_top.to_html(escape=False))"
   ]
  },
  {
   "cell_type": "code",
   "execution_count": 21,
   "metadata": {},
   "outputs": [
    {
     "data": {
      "text/plain": [
       "<matplotlib.axes._subplots.AxesSubplot at 0x7fe237ae59e8>"
      ]
     },
     "execution_count": 21,
     "metadata": {},
     "output_type": "execute_result"
    },
    {
     "data": {
      "image/png": "[encoded data removed]",
      "text/plain": [
       "<Figure size 1296x360 with 1 Axes>"
      ]
     },
     "metadata": {
      "needs_background": "light"
     },
     "output_type": "display_data"
    }
   ],
   "source": [
    "#Maximum revenue through the years\n",
    "plt.figure(figsize=(18,5))\n",
    "year_revenue = df_movies_metadata.filter(df_movies_metadata['revenue'].isNotNull() & isnan(df_movies_metadata['revenue'])==False)\n",
    "year_revenue = year_revenue.filter(year_revenue['year'].isNotNull()).groupby('year')\n",
    "year_revenue = year_revenue.max()\n",
    "year_revenue = year_revenue.select('year','max(revenue)').sort('year')\n",
    "t2 = year_revenue.toPandas()\n",
    "\n",
    "sns.lineplot(x=\"year\", y=\"max(revenue)\", data=t2)"
   ]
  },
  {
   "cell_type": "markdown",
   "metadata": {},
   "source": [
    "## Returns/Movie Success Analysis"
   ]
  },
  {
   "cell_type": "code",
   "execution_count": 22,
   "metadata": {},
   "outputs": [
    {
     "name": "stdout",
     "output_type": "stream",
     "text": [
      "Most Successful Movies:\n",
      "+--------------------+---------+------------+------------------+----+\n",
      "|               title|   budget|     revenue|            return|year|\n",
      "+--------------------+---------+------------+------------------+----+\n",
      "|E.T. the Extra-Te...|   1.05E7|7.92965326E8| 75.52050723809523|1982|\n",
      "|           Star Wars|    1.1E7|7.75398007E8| 70.49072790909091|1977|\n",
      "|                Jaws|7000000.0|   4.70654E8| 67.23628571428571|1975|\n",
      "|        The Exorcist|8000000.0|4.41306145E8|      55.163268125|1973|\n",
      "|Four Weddings and...|6000000.0|2.54700832E8| 42.45013866666667|1994|\n",
      "|       The Godfather|6000000.0|2.45066411E8|40.844401833333336|1972|\n",
      "|           Annabelle|6500000.0|2.55273813E8|39.272894307692304|2014|\n",
      "|       Dirty Dancing|6000000.0|2.13954274E8|35.659045666666664|1987|\n",
      "|  The Sound of Music|8200000.0|2.86214286E8|34.904181219512196|1965|\n",
      "|        Pretty Woman|    1.4E7|      4.63E8| 33.07142857142857|1990|\n",
      "|    The Intouchables|    1.3E7|4.26480871E8| 32.80622084615385|2011|\n",
      "|                Juno|7500000.0|2.31411584E8|30.854877866666666|2007|\n",
      "|               Split|9000000.0|2.76921998E8| 30.76911088888889|2016|\n",
      "|              Grease|6000000.0| 1.8181377E8|         30.302295|1978|\n",
      "|The Empire Strike...|    1.8E7|     5.384E8| 29.91111111111111|1980|\n",
      "|              Dangal|   1.04E7|       3.1E8|29.807692307692307|2016|\n",
      "|           The Sting|5500000.0|1.59616327E8|29.021150363636362|1973|\n",
      "|            Rocky II|7000000.0| 2.0018216E8| 28.59745142857143|1979|\n",
      "|   The King's Speech|    1.5E7|4.14211549E8|27.614103266666667|2010|\n",
      "|      A Star Is Born|6000000.0|      1.61E8|26.833333333333332|1976|\n",
      "+--------------------+---------+------------+------------------+----+\n",
      "only showing top 20 rows\n",
      "\n"
     ]
    }
   ],
   "source": [
    "#Returns or Movie Success Analysis \n",
    "#Most Successful Movies\n",
    "print(\"Most Successful Movies:\")\n",
    "c = df_movies_metadata.filter((isnan(df_movies_metadata['return'])==False) & (df_movies_metadata['return'].isNotNull()) & (df_movies_metadata['budget'] > 5e6)).select('title', 'budget', 'revenue', 'return', 'year').orderBy('return', ascending=False)\n",
    "c.show()"
   ]
  },
  {
   "cell_type": "code",
   "execution_count": 23,
   "metadata": {},
   "outputs": [
    {
     "name": "stdout",
     "output_type": "stream",
     "text": [
      "Worst Box Office Disasters:\n",
      "+--------------------+---------+--------+--------------------+----+\n",
      "|               title|   budget| revenue|              return|year|\n",
      "+--------------------+---------+--------+--------------------+----+\n",
      "|               Chaos|    2.0E7| 10289.0|           5.1445E-4|2005|\n",
      "|       5 Days of War|    2.0E7| 17479.0|           8.7395E-4|2011|\n",
      "|      Special Forces|    1.0E7| 10759.0|           0.0010759|2011|\n",
      "|          Foodfight!|    6.5E7| 73706.0|0.001133938461538...|2012|\n",
      "|           Term Life|   1.65E7| 21256.0|0.001288242424242...|2016|\n",
      "|    Laurence Anyways|9500000.0| 12250.0|0.001289473684210...|2012|\n",
      "|      The Good Night|    1.5E7| 20380.0|0.001358666666666...|2007|\n",
      "|         Cherry 2000|    1.0E7| 14000.0|              0.0014|1987|\n",
      "|          Twice Born|    1.3E7| 18295.0|0.001407307692307...|2012|\n",
      "| All The Queen's Men|    1.5E7| 23000.0|0.001533333333333...|2001|\n",
      "|        Strangerland|    1.0E7| 17472.0|           0.0017472|2015|\n",
      "|       The Red Baron|    1.8E7| 40239.0|           0.0022355|2008|\n",
      "|The Tulse Luper S...|    1.0E7| 25800.0|             0.00258|2003|\n",
      "|     Highway to Hell|9000000.0| 26055.0|            0.002895|1991|\n",
      "|            Jimmy P.|    1.0E7| 30283.0|           0.0030283|2013|\n",
      "|A Troll in Centra...|    2.3E7| 71368.0|0.003102956521739...|1994|\n",
      "|            Margaret|    1.4E7| 46495.0|0.003321071428571...|2011|\n",
      "|                1911|    3.0E7|108348.0|           0.0036116|2011|\n",
      "|       Walk of Shame|    1.5E7| 59209.0|0.003947266666666667|2014|\n",
      "|An Alan Smithee F...|    1.0E7| 45779.0|           0.0045779|1998|\n",
      "+--------------------+---------+--------+--------------------+----+\n",
      "only showing top 20 rows\n",
      "\n"
     ]
    }
   ],
   "source": [
    "#Worst Box Office Disasters\n",
    "print(\"Worst Box Office Disasters:\")\n",
    "d = df_movies_metadata.filter((isnan(df_movies_metadata['return'])==False) & (df_movies_metadata['return'].isNotNull()) & (df_movies_metadata['budget'] > 5e6) & (df_movies_metadata['revenue'] > 10000)).select('title', 'budget', 'revenue', 'return', 'year').orderBy('return')\n",
    "d.show()"
   ]
  }
 ],
 "metadata": {
  "kernelspec": {
   "display_name": "Spark-2.3.0 / PySpark",
   "language": "python",
   "name": "python3"
  },
  "language_info": {
   "codemirror_mode": {
    "name": "ipython",
    "version": 3
   },
   "file_extension": ".py",
   "mimetype": "text/x-python",
   "name": "python",
   "nbconvert_exporter": "python",
   "pygments_lexer": "ipython3",
   "version": "3.6.5"
  }
 },
 "nbformat": 4,
 "nbformat_minor": 2
}
