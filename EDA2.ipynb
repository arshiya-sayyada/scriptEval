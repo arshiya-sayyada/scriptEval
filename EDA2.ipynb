{
 "cells": [
  {
   "cell_type": "markdown",
   "metadata": {
    "_cell_guid": "6e678bee-8008-41b1-9bc2-f77d48950b3f",
    "_uuid": "79a9e640-99a8-4ef5-942b-5dbd6056f44e"
   },
   "source": [
    "## Importing Libraries and Loading Our Data"
   ]
  },
  {
   "cell_type": "code",
   "execution_count": 1,
   "metadata": {
    "_cell_guid": "8d492f48-a4b1-4f64-93ce-203b71012f8e",
    "_uuid": "230ef57e-09de-4c81-9ecf-5dc2ed01673f"
   },
   "outputs": [],
   "source": [
    "# Importing necessay packages\n",
    "import sys\n",
    "import findspark\n",
    "findspark.init()\n",
    "from pyspark.context import SparkContext\n",
    "from pyspark.sql.session import SparkSession\n",
    "from pyspark.sql.functions import format_string\n",
    "from pyspark.sql.functions import *\n",
    "from pyspark.sql.types import *\n",
    "from pyspark.sql.functions import col, avg\n",
    "from pyspark.sql import functions as F\n",
    "                             \n",
    "from pyspark.ml.feature import VectorAssembler\n",
    "from pyspark.sql.types import IntegerType\n",
    "from pyspark.mllib.regression import LabeledPoint\n",
    "from pyspark.sql.functions import col\n",
    "from pyspark.ml.feature import VectorAssembler\n",
    "from pyspark.ml.classification import LogisticRegression\n",
    "from pyspark.mllib.classification import LogisticRegressionWithSGD\n",
    "from pyspark.mllib.classification import LogisticRegressionWithLBFGS\n",
    "from pyspark.mllib.classification import SVMWithSGD\n",
    "\n",
    "from pyspark.sql import DataFrame\n",
    "!HADOOP_LIBPATH='/opt/cloudera/parcels/CDH/lib'\n",
    "!HADOOP_STREAMING='hadoop-mapreduce/hadoop-streaming.jar'\n",
    "\n",
    "!alias hfs=\"$HADOOP_EXE fs\"\n",
    "\n",
    "sc = SparkContext()\n",
    "spark = SparkSession(sc)\n",
    "\n",
    "\n",
    "%matplotlib inline\n",
    "from IPython.display import Image, HTML\n",
    "import json\n",
    "import datetime\n",
    "import ast\n",
    "import pandas as pd\n",
    "import matplotlib.pyplot as plt\n",
    "import seaborn as sns\n",
    "import numpy as np\n",
    "from scipy import stats\n",
    "import warnings\n",
    "warnings.filterwarnings('ignore')\n",
    "sns.set_style('whitegrid')\n",
    "sns.set(font_scale=1.25)\n",
    "pd.set_option('display.max_colwidth', 50)"
   ]
  },
  {
   "cell_type": "code",
   "execution_count": null,
   "metadata": {},
   "outputs": [
    {
     "name": "stdout",
     "output_type": "stream",
     "text": [
      "Archive:  ./the-movies-dataset.zip\r\n",
      "replace credits.csv? [y]es, [n]o, [A]ll, [N]one, [r]ename: "
     ]
    }
   ],
   "source": [
    "# Unzipping the Dataset zip file\n",
    "\n",
    "!unzip './the-movies-dataset.zip'"
   ]
  },
  {
   "cell_type": "code",
   "execution_count": null,
   "metadata": {},
   "outputs": [],
   "source": [
    "# Moving the data files to HDFS\n",
    "\n",
    "!hadoop fs -put credits.csv\n",
    "!hadoop fs -put keywords.csv\n",
    "!hadoop fs -put links.csv\n",
    "!hadoop fs -put links_small.csv\n",
    "!hadoop fs -put movies_metadata.csv\n",
    "!hadoop fs -put ratings.csv\n",
    "!hadoop fs -put ratings_small.csv"
   ]
  },
  {
   "cell_type": "code",
   "execution_count": 2,
   "metadata": {},
   "outputs": [
    {
     "data": {
      "text/plain": [
       "Row(adult='False', belongs_to_collection=\"{'id': 10194, 'name': 'Toy Story Collection', 'poster_path': '/7G9915LfUQ2lVfwMEEhDsn3kT4B.jpg', 'backdrop_path': '/9FBwqcd9IRruEDUrTdcaafOMKUq.jpg'}\", budget='30000000', genres=\"[{'id': 16, 'name': 'Animation'}, {'id': 35, 'name': 'Comedy'}, {'id': 10751, 'name': 'Family'}]\", homepage='http://toystory.disney.com/toy-story', id='862', imdb_id='tt0114709', original_language='en', original_title='Toy Story', overview=\"Led by Woody, Andy's toys live happily in his room until Andy's birthday brings Buzz Lightyear onto the scene. Afraid of losing his place in Andy's heart, Woody plots against Buzz. But when circumstances separate Buzz and Woody from their owner, the duo eventually learns to put aside their differences.\", popularity='21.946943', poster_path='/rhIRbceoE9lR4veEXuwCC2wARtG.jpg', production_companies=\"[{'name': 'Pixar Animation Studios', 'id': 3}]\", production_countries=\"[{'iso_3166_1': 'US', 'name': 'United States of America'}]\", release_date='1995-10-30', revenue='373554033', runtime='81.0', spoken_languages=\"[{'iso_639_1': 'en', 'name': 'English'}]\", status='Released', tagline=None, title='Toy Story', video='False', vote_average='7.7', vote_count='5415')"
      ]
     },
     "execution_count": 2,
     "metadata": {},
     "output_type": "execute_result"
    }
   ],
   "source": [
    "# Reading Movies Metadata file to a spark dataframe\n",
    "\n",
    "df_movies_metadata = spark.read.format(\"csv\").option(\"header\",\"true\").load(\"movies_metadata.csv\")\n",
    "df_movies_metadata.head()"
   ]
  },
  {
   "cell_type": "code",
   "execution_count": 3,
   "metadata": {},
   "outputs": [
    {
     "data": {
      "text/plain": [
       "['adult',\n",
       " 'belongs_to_collection',\n",
       " 'budget',\n",
       " 'genres',\n",
       " 'homepage',\n",
       " 'id',\n",
       " 'imdb_id',\n",
       " 'original_language',\n",
       " 'original_title',\n",
       " 'overview',\n",
       " 'popularity',\n",
       " 'poster_path',\n",
       " 'production_companies',\n",
       " 'production_countries',\n",
       " 'release_date',\n",
       " 'revenue',\n",
       " 'runtime',\n",
       " 'spoken_languages',\n",
       " 'status',\n",
       " 'tagline',\n",
       " 'title',\n",
       " 'video',\n",
       " 'vote_average',\n",
       " 'vote_count']"
      ]
     },
     "execution_count": 3,
     "metadata": {},
     "output_type": "execute_result"
    }
   ],
   "source": [
    "# Columns of Movies-Metadata\n",
    "\n",
    "df_movies_metadata.columns"
   ]
  },
  {
   "cell_type": "code",
   "execution_count": 4,
   "metadata": {},
   "outputs": [
    {
     "name": "stdout",
     "output_type": "stream",
     "text": [
      "Number of Entries in Meta data dataframe: 45572\n"
     ]
    }
   ],
   "source": [
    "# Number of Entries in Movies-meta data\n",
    "\n",
    "print(\"Number of Entries in Meta data dataframe:\",df_movies_metadata.count())"
   ]
  },
  {
   "cell_type": "code",
   "execution_count": 5,
   "metadata": {},
   "outputs": [
    {
     "data": {
      "text/plain": [
       "DataFrame[summary: string, adult: string, belongs_to_collection: string, budget: string, genres: string, homepage: string, id: string, imdb_id: string, original_language: string, original_title: string, overview: string, popularity: string, poster_path: string, production_companies: string, production_countries: string, release_date: string, revenue: string, runtime: string, spoken_languages: string, status: string, tagline: string, title: string, video: string, vote_average: string, vote_count: string]"
      ]
     },
     "execution_count": 5,
     "metadata": {},
     "output_type": "execute_result"
    }
   ],
   "source": [
    "# Column datatypes of movies_metadata dataframe\n",
    "\n",
    "df_movies_metadata.describe()"
   ]
  },
  {
   "cell_type": "code",
   "execution_count": 6,
   "metadata": {},
   "outputs": [
    {
     "name": "stdout",
     "output_type": "stream",
     "text": [
      "+--------------------+--------------------+\n",
      "|      original_title|               title|\n",
      "+--------------------+--------------------+\n",
      "|           Toy Story|           Toy Story|\n",
      "|             Jumanji|             Jumanji|\n",
      "|    Grumpier Old Men|    Grumpier Old Men|\n",
      "|   Waiting to Exhale|[{'iso_639_1': 'e...|\n",
      "|Father of the Bri...|Father of the Bri...|\n",
      "|                Heat|                Heat|\n",
      "|             Sabrina|             Sabrina|\n",
      "|        Tom and Huck|        Tom and Huck|\n",
      "|        Sudden Death|        Sudden Death|\n",
      "|           GoldenEye|           GoldenEye|\n",
      "+--------------------+--------------------+\n",
      "only showing top 10 rows\n",
      "\n"
     ]
    }
   ],
   "source": [
    "# Data Cleaning\n",
    "\n",
    "# Dropping Unnecessary columns (imdb_id)\n",
    "\n",
    "df_movies_metadata = df_movies_metadata.drop(\"imdb_id\")\n",
    "\n",
    "# Removing original_title and retaining the translated title\n",
    "\n",
    "df_movies_metadata.select([\"original_title\",\"title\"]).show(10)\n",
    "\n",
    "df_movies_metadata = df_movies_metadata.drop(\"original_title\")"
   ]
  },
  {
   "cell_type": "code",
   "execution_count": 7,
   "metadata": {},
   "outputs": [
    {
     "name": "stdout",
     "output_type": "stream",
     "text": [
      "Before replacing Zero values\n",
      "+--------------------+--------+\n",
      "|             revenue|  budget|\n",
      "+--------------------+--------+\n",
      "|           373554033|30000000|\n",
      "|           262797249|65000000|\n",
      "|                   0|       0|\n",
      "|[{'name': 'Twenti...|16000000|\n",
      "|            76578911|       0|\n",
      "|           187436818|60000000|\n",
      "|                   0|58000000|\n",
      "|                   0|       0|\n",
      "|            64350171|35000000|\n",
      "|           352194034|58000000|\n",
      "|           107879496|62000000|\n",
      "|                   0|       0|\n",
      "|            11348324|       0|\n",
      "|            13681765|44000000|\n",
      "|            10017322|98000000|\n",
      "|           116112375|52000000|\n",
      "|           135000000|16500000|\n",
      "|             4300000| 4000000|\n",
      "|           212385533|30000000|\n",
      "|            35431113|60000000|\n",
      "+--------------------+--------+\n",
      "only showing top 20 rows\n",
      "\n",
      "Number of Movie records with Revenue as 0\n",
      "34799\n",
      "After replacing Zero values\n",
      "+------------+--------+\n",
      "|     revenue|  budget|\n",
      "+------------+--------+\n",
      "|3.73554033E8|30000000|\n",
      "|2.62797249E8|65000000|\n",
      "|         NaN|       0|\n",
      "|         NaN|16000000|\n",
      "| 7.6578911E7|       0|\n",
      "|1.87436818E8|60000000|\n",
      "|         NaN|58000000|\n",
      "|         NaN|       0|\n",
      "| 6.4350171E7|35000000|\n",
      "|3.52194034E8|58000000|\n",
      "|1.07879496E8|62000000|\n",
      "|         NaN|       0|\n",
      "| 1.1348324E7|       0|\n",
      "| 1.3681765E7|44000000|\n",
      "| 1.0017322E7|98000000|\n",
      "|1.16112375E8|52000000|\n",
      "|      1.35E8|16500000|\n",
      "|   4300000.0| 4000000|\n",
      "|2.12385533E8|30000000|\n",
      "| 3.5431113E7|60000000|\n",
      "+------------+--------+\n",
      "only showing top 20 rows\n",
      "\n"
     ]
    }
   ],
   "source": [
    "# Presence of Zero-revenue movies\n",
    "print(\"Before replacing Zero values\")\n",
    "df_movies_metadata.select(\"revenue\",\"budget\").show()\n",
    "\n",
    "print(\"Number of Movie records with Revenue as 0\")\n",
    "print(df_movies_metadata.filter(df_movies_metadata.revenue=='0').count())\n",
    "\n",
    "print(\"After replacing Zero values\")\n",
    "df_movies_metadata = df_movies_metadata.withColumn(\"revenue\", df_movies_metadata[\"revenue\"].cast(IntegerType()))\n",
    "df_movies_metadata = df_movies_metadata.withColumn(\"revenue\", F.when(F.col(\"revenue\").isNull(), np.nan).otherwise(F.col(\"revenue\")))\n",
    "df_movies_metadata = df_movies_metadata.withColumn(\"revenue\", F.when(F.col(\"revenue\")=='0', np.nan).otherwise(F.col(\"revenue\")))\n",
    "df_movies_metadata.select([\"revenue\",\"budget\"]).show()"
   ]
  },
  {
   "cell_type": "code",
   "execution_count": 8,
   "metadata": {},
   "outputs": [
    {
     "name": "stdout",
     "output_type": "stream",
     "text": [
      "+---------+\n",
      "|   budget|\n",
      "+---------+\n",
      "|    3.0E7|\n",
      "|    6.5E7|\n",
      "|      NaN|\n",
      "|    1.6E7|\n",
      "|      NaN|\n",
      "|    6.0E7|\n",
      "|    5.8E7|\n",
      "|      NaN|\n",
      "|    3.5E7|\n",
      "|    5.8E7|\n",
      "|    6.2E7|\n",
      "|      NaN|\n",
      "|      NaN|\n",
      "|    4.4E7|\n",
      "|    9.8E7|\n",
      "|    5.2E7|\n",
      "|   1.65E7|\n",
      "|4000000.0|\n",
      "|    3.0E7|\n",
      "|    6.0E7|\n",
      "+---------+\n",
      "only showing top 20 rows\n",
      "\n"
     ]
    }
   ],
   "source": [
    "# Casting Budget to IntegerType and replacing zero budget entries to NaN\n",
    "\n",
    "df_movies_metadata = df_movies_metadata.withColumn(\"budget\", df_movies_metadata[\"budget\"].cast(IntegerType()))\n",
    "df_movies_metadata = df_movies_metadata.withColumn(\"budget\", F.when(F.col(\"budget\")==0, np.nan).otherwise(F.col(\"budget\")))\n",
    "df_movies_metadata.select(\"budget\").show()"
   ]
  },
  {
   "cell_type": "code",
   "execution_count": 9,
   "metadata": {},
   "outputs": [
    {
     "name": "stdout",
     "output_type": "stream",
     "text": [
      "+------------+---------+-------------------+\n",
      "|     revenue|   budget|             return|\n",
      "+------------+---------+-------------------+\n",
      "|3.73554033E8|    3.0E7|         12.4518011|\n",
      "|2.62797249E8|    6.5E7|          4.0430346|\n",
      "|         NaN|      NaN|                NaN|\n",
      "|         NaN|    1.6E7|                NaN|\n",
      "| 7.6578911E7|      NaN|                NaN|\n",
      "|1.87436818E8|    6.0E7|  3.123946966666667|\n",
      "|         NaN|    5.8E7|                NaN|\n",
      "|         NaN|      NaN|                NaN|\n",
      "| 6.4350171E7|    3.5E7| 1.8385763142857143|\n",
      "|3.52194034E8|    5.8E7|  6.072310931034483|\n",
      "|1.07879496E8|    6.2E7|  1.739991870967742|\n",
      "|         NaN|      NaN|                NaN|\n",
      "| 1.1348324E7|      NaN|                NaN|\n",
      "| 1.3681765E7|    4.4E7|0.31094920454545455|\n",
      "| 1.0017322E7|    9.8E7|0.10221757142857144|\n",
      "|1.16112375E8|    5.2E7| 2.2329302884615383|\n",
      "|      1.35E8|   1.65E7|  8.181818181818182|\n",
      "|   4300000.0|4000000.0|              1.075|\n",
      "|2.12385533E8|    3.0E7|  7.079517766666667|\n",
      "| 3.5431113E7|    6.0E7|         0.59051855|\n",
      "+------------+---------+-------------------+\n",
      "only showing top 20 rows\n",
      "\n"
     ]
    }
   ],
   "source": [
    "# Creating a New column called Return : (Revenue/Budget) to assess the success of movies\n",
    "\n",
    "df_movies_metadata = df_movies_metadata.withColumn(\"return\",df_movies_metadata[\"revenue\"]/df_movies_metadata[\"budget\"])\n",
    "df_movies_metadata.select([\"revenue\",\"budget\",\"return\"]).show()"
   ]
  },
  {
   "cell_type": "code",
   "execution_count": 10,
   "metadata": {},
   "outputs": [],
   "source": [
    "# Extracting and creating a year column from release date of movie \n",
    "df_movies_metadata = df_movies_metadata.withColumn(\"year\", year(df_movies_metadata[\"release_date\"]).alias('year'))"
   ]
  },
  {
   "cell_type": "code",
   "execution_count": 11,
   "metadata": {},
   "outputs": [
    {
     "name": "stdout",
     "output_type": "stream",
     "text": [
      "Number of Adult Movies: 9\n",
      "Therefore,we can safely remove that column\n"
     ]
    }
   ],
   "source": [
    "# Dropping Adult column as very few movies qualify as Adult\n",
    "\n",
    "print(\"Number of Adult Movies:\",df_movies_metadata.filter(df_movies_metadata[\"adult\"]==True).select(\"adult\").count())\n",
    "print(\"Therefore,we can safely remove that column\")\n",
    "df_movies_metadata = df_movies_metadata.drop(\"adult\")\n"
   ]
  },
  {
   "cell_type": "code",
   "execution_count": null,
   "metadata": {},
   "outputs": [],
   "source": [
    "df = df_movies_metadata"
   ]
  },
  {
   "cell_type": "code",
   "execution_count": 18,
   "metadata": {
    "_cell_guid": "5aad5256-0ce8-481f-b9fb-ab73389bc126",
    "_uuid": "b753a945-d068-481f-98ac-6b86921a59d9"
   },
   "outputs": [],
   "source": [
    "df['popularity'] = df['popularity'].astype('float')\n",
    "df['vote_count'] = df['vote_count'].astype('float')\n",
    "df['vote_average'] = df['vote_average'].astype'float')"
   ]
  },
  {
   "cell_type": "code",
   "execution_count": 19,
   "metadata": {
    "_cell_guid": "7f87e1a3-df75-4761-b717-0a149ee54d6d",
    "_uuid": "0601d795-f4d7-4fbe-b3d6-08d823f522ad",
    "scrolled": true
   },
   "outputs": [
    {
     "data": {
      "text/plain": [
       "count    45460.000000\n",
       "mean         2.921478\n",
       "std          6.005414\n",
       "min          0.000000\n",
       "25%          0.385948\n",
       "50%          1.127685\n",
       "75%          3.678902\n",
       "max        547.488298\n",
       "Name: popularity, dtype: float64"
      ]
     },
     "execution_count": 19,
     "metadata": {},
     "output_type": "execute_result"
    }
   ],
   "source": [
    "df['popularity'].describe()"
   ]
  },
  {
   "cell_type": "code",
   "execution_count": 20,
   "metadata": {
    "_cell_guid": "d5cbf49f-cd0a-428b-ad2f-69bf3865dfdb",
    "_uuid": "c376cd9e-f4af-43fd-9dde-77de0d0fbc7e",
    "scrolled": true
   },
   "outputs": [
    {
     "data": {
      "image/png": "[encoded data removed]",
      "text/plain": [
       "<Figure size 432x288 with 1 Axes>"
      ]
     },
     "metadata": {},
     "output_type": "display_data"
    }
   ],
   "source": [
    "sns.distplot(df['popularity'].fillna(df['popularity'].median()))\n",
    "plt.show()"
   ]
  },
  {
   "cell_type": "code",
   "execution_count": 21,
   "metadata": {
    "_cell_guid": "cf30c8f4-626b-4baf-98ef-176b887d516d",
    "_uuid": "1cda004e-042f-4941-8b52-413c2567dd96",
    "scrolled": true
   },
   "outputs": [
    {
     "data": {
      "text/plain": [
       "<matplotlib.axes._subplots.AxesSubplot at 0x7fcce25568d0>"
      ]
     },
     "execution_count": 21,
     "metadata": {},
     "output_type": "execute_result"
    },
    {
     "data": {
      "image/png": "[encoded data removed]",
      "text/plain": [
       "<Figure size 432x288 with 1 Axes>"
      ]
     },
     "metadata": {},
     "output_type": "display_data"
    }
   ],
   "source": [
    "df['popularity'].plot(logy=True, kind='hist')"
   ]
  },
  {
   "cell_type": "code",
   "execution_count": 22,
   "metadata": {
    "_cell_guid": "b746f13a-1c33-44b5-aa74-f9e33c1032ff",
    "_uuid": "7f052220-58e8-4d85-845f-026be25afcce"
   },
   "outputs": [
    {
     "data": {
      "text/html": [
       "<div>\n",
       "<style scoped>\n",
       "    .dataframe tbody tr th:only-of-type {\n",
       "        vertical-align: middle;\n",
       "    }\n",
       "\n",
       "    .dataframe tbody tr th {\n",
       "        vertical-align: top;\n",
       "    }\n",
       "\n",
       "    .dataframe thead th {\n",
       "        text-align: right;\n",
       "    }\n",
       "</style>\n",
       "<table border=\"1\" class=\"dataframe\">\n",
       "  <thead>\n",
       "    <tr style=\"text-align: right;\">\n",
       "      <th></th>\n",
       "      <th>title</th>\n",
       "      <th>popularity</th>\n",
       "      <th>year</th>\n",
       "    </tr>\n",
       "  </thead>\n",
       "  <tbody>\n",
       "    <tr>\n",
       "      <th>30700</th>\n",
       "      <td>Minions</td>\n",
       "      <td>547.488298</td>\n",
       "      <td>2015</td>\n",
       "    </tr>\n",
       "    <tr>\n",
       "      <th>33356</th>\n",
       "      <td>Wonder Woman</td>\n",
       "      <td>294.337037</td>\n",
       "      <td>2017</td>\n",
       "    </tr>\n",
       "    <tr>\n",
       "      <th>42222</th>\n",
       "      <td>Beauty and the Beast</td>\n",
       "      <td>287.253654</td>\n",
       "      <td>2017</td>\n",
       "    </tr>\n",
       "    <tr>\n",
       "      <th>43644</th>\n",
       "      <td>Baby Driver</td>\n",
       "      <td>228.032744</td>\n",
       "      <td>2017</td>\n",
       "    </tr>\n",
       "    <tr>\n",
       "      <th>24455</th>\n",
       "      <td>Big Hero 6</td>\n",
       "      <td>213.849907</td>\n",
       "      <td>2014</td>\n",
       "    </tr>\n",
       "    <tr>\n",
       "      <th>26564</th>\n",
       "      <td>Deadpool</td>\n",
       "      <td>187.860492</td>\n",
       "      <td>2016</td>\n",
       "    </tr>\n",
       "    <tr>\n",
       "      <th>26566</th>\n",
       "      <td>Guardians of the Galaxy Vol. 2</td>\n",
       "      <td>185.330992</td>\n",
       "      <td>2017</td>\n",
       "    </tr>\n",
       "    <tr>\n",
       "      <th>14551</th>\n",
       "      <td>Avatar</td>\n",
       "      <td>185.070892</td>\n",
       "      <td>2009</td>\n",
       "    </tr>\n",
       "    <tr>\n",
       "      <th>24351</th>\n",
       "      <td>John Wick</td>\n",
       "      <td>183.870374</td>\n",
       "      <td>2014</td>\n",
       "    </tr>\n",
       "    <tr>\n",
       "      <th>23675</th>\n",
       "      <td>Gone Girl</td>\n",
       "      <td>154.801009</td>\n",
       "      <td>2014</td>\n",
       "    </tr>\n",
       "  </tbody>\n",
       "</table>\n",
       "</div>"
      ],
      "text/plain": [
       "                                title  popularity  year\n",
       "30700                         Minions  547.488298  2015\n",
       "33356                    Wonder Woman  294.337037  2017\n",
       "42222            Beauty and the Beast  287.253654  2017\n",
       "43644                     Baby Driver  228.032744  2017\n",
       "24455                      Big Hero 6  213.849907  2014\n",
       "26564                        Deadpool  187.860492  2016\n",
       "26566  Guardians of the Galaxy Vol. 2  185.330992  2017\n",
       "14551                          Avatar  185.070892  2009\n",
       "24351                       John Wick  183.870374  2014\n",
       "23675                       Gone Girl  154.801009  2014"
      ]
     },
     "execution_count": 22,
     "metadata": {},
     "output_type": "execute_result"
    }
   ],
   "source": [
    "df[['title', 'popularity', 'year']].sort_values('popularity', ascending=False).head(10)"
   ]
  },
  {
   "cell_type": "markdown",
   "metadata": {
    "_cell_guid": "6a952166-09dd-4c31-84c9-e823e3096bf9",
    "_uuid": "031fbe41-2664-44a5-b005-ccff430a5691"
   },
   "source": [
    "**Minions** is the most popular movie by the TMDB Popularity Score. **Wonder Woman** and **Beauty and the Beast**, two extremely successful woman centric movies come in second and third respectively."
   ]
  },
  {
   "cell_type": "code",
   "execution_count": 23,
   "metadata": {
    "_cell_guid": "aa7d10ee-6fff-4fdc-a386-02ef49f9c02b",
    "_uuid": "d19053a5-e440-4ec1-8486-b26c78da2444"
   },
   "outputs": [
    {
     "data": {
      "text/plain": [
       "count    45460.000000\n",
       "mean       109.897338\n",
       "std        491.310374\n",
       "min          0.000000\n",
       "25%          3.000000\n",
       "50%         10.000000\n",
       "75%         34.000000\n",
       "max      14075.000000\n",
       "Name: vote_count, dtype: float64"
      ]
     },
     "execution_count": 23,
     "metadata": {},
     "output_type": "execute_result"
    }
   ],
   "source": [
    "df['vote_count'].describe()"
   ]
  },
  {
   "cell_type": "markdown",
   "metadata": {
    "_cell_guid": "fbad5f5e-80cf-4f8c-aba2-ac0e1a0df983",
    "_uuid": "4270cdec-d5f0-4f68-8b50-b0d2a17c87f0"
   },
   "source": [
    "As with popularity scores, the distribution of vote counts is extremely skewed with the median vote count standing at a paltry 10 votes. The most votes a single movie has got stands at 14,075. TMDB Votes, therefore, are not as potent and suggestive as its IMDB Counterpart. Nevertheless, let us check which the most voted on movies on the website are."
   ]
  },
  {
   "cell_type": "markdown",
   "metadata": {
    "_cell_guid": "4dcd3b2c-941f-49b4-b0b5-5663d4aba2f3",
    "_uuid": "3de8e985-5c6e-44e9-af23-58ac3041e3e4"
   },
   "source": [
    "#### Most Voted on Movies"
   ]
  },
  {
   "cell_type": "code",
   "execution_count": 25,
   "metadata": {
    "_cell_guid": "a44329d4-cd92-4f77-a027-a81b501133f0",
    "_uuid": "90c43e66-9cb6-4cf0-bc6c-2099b38ddba1"
   },
   "outputs": [
    {
     "data": {
      "text/html": [
       "<div>\n",
       "<style scoped>\n",
       "    .dataframe tbody tr th:only-of-type {\n",
       "        vertical-align: middle;\n",
       "    }\n",
       "\n",
       "    .dataframe tbody tr th {\n",
       "        vertical-align: top;\n",
       "    }\n",
       "\n",
       "    .dataframe thead th {\n",
       "        text-align: right;\n",
       "    }\n",
       "</style>\n",
       "<table border=\"1\" class=\"dataframe\">\n",
       "  <thead>\n",
       "    <tr style=\"text-align: right;\">\n",
       "      <th></th>\n",
       "      <th>title</th>\n",
       "      <th>vote_count</th>\n",
       "      <th>year</th>\n",
       "    </tr>\n",
       "  </thead>\n",
       "  <tbody>\n",
       "    <tr>\n",
       "      <th>15480</th>\n",
       "      <td>Inception</td>\n",
       "      <td>14075.0</td>\n",
       "      <td>2010</td>\n",
       "    </tr>\n",
       "    <tr>\n",
       "      <th>12481</th>\n",
       "      <td>The Dark Knight</td>\n",
       "      <td>12269.0</td>\n",
       "      <td>2008</td>\n",
       "    </tr>\n",
       "    <tr>\n",
       "      <th>14551</th>\n",
       "      <td>Avatar</td>\n",
       "      <td>12114.0</td>\n",
       "      <td>2009</td>\n",
       "    </tr>\n",
       "    <tr>\n",
       "      <th>17818</th>\n",
       "      <td>The Avengers</td>\n",
       "      <td>12000.0</td>\n",
       "      <td>2012</td>\n",
       "    </tr>\n",
       "    <tr>\n",
       "      <th>26564</th>\n",
       "      <td>Deadpool</td>\n",
       "      <td>11444.0</td>\n",
       "      <td>2016</td>\n",
       "    </tr>\n",
       "    <tr>\n",
       "      <th>22879</th>\n",
       "      <td>Interstellar</td>\n",
       "      <td>11187.0</td>\n",
       "      <td>2014</td>\n",
       "    </tr>\n",
       "    <tr>\n",
       "      <th>20051</th>\n",
       "      <td>Django Unchained</td>\n",
       "      <td>10297.0</td>\n",
       "      <td>2012</td>\n",
       "    </tr>\n",
       "    <tr>\n",
       "      <th>23753</th>\n",
       "      <td>Guardians of the Galaxy</td>\n",
       "      <td>10014.0</td>\n",
       "      <td>2014</td>\n",
       "    </tr>\n",
       "    <tr>\n",
       "      <th>2843</th>\n",
       "      <td>Fight Club</td>\n",
       "      <td>9678.0</td>\n",
       "      <td>1999</td>\n",
       "    </tr>\n",
       "    <tr>\n",
       "      <th>18244</th>\n",
       "      <td>The Hunger Games</td>\n",
       "      <td>9634.0</td>\n",
       "      <td>2012</td>\n",
       "    </tr>\n",
       "  </tbody>\n",
       "</table>\n",
       "</div>"
      ],
      "text/plain": [
       "                         title  vote_count  year\n",
       "15480                Inception     14075.0  2010\n",
       "12481          The Dark Knight     12269.0  2008\n",
       "14551                   Avatar     12114.0  2009\n",
       "17818             The Avengers     12000.0  2012\n",
       "26564                 Deadpool     11444.0  2016\n",
       "22879             Interstellar     11187.0  2014\n",
       "20051         Django Unchained     10297.0  2012\n",
       "23753  Guardians of the Galaxy     10014.0  2014\n",
       "2843                Fight Club      9678.0  1999\n",
       "18244         The Hunger Games      9634.0  2012"
      ]
     },
     "execution_count": 25,
     "metadata": {},
     "output_type": "execute_result"
    }
   ],
   "source": [
    "df[['title', 'vote_count', 'year']].sort_values('vote_count', ascending=False).head(10)"
   ]
  },
  {
   "cell_type": "markdown",
   "metadata": {
    "_cell_guid": "55159710-3583-4da5-90fd-b28c742b238c",
    "_uuid": "d0a5e3a8-75c2-46ae-b873-cec09bf4549f"
   },
   "source": [
    "**Inception** and **The Dark Knight**, two critically acclaimed and commercially successful Christopher Nolan movies figure at the top of our chart."
   ]
  },
  {
   "cell_type": "code",
   "execution_count": 26,
   "metadata": {
    "_cell_guid": "61c42996-eb4d-46a1-9afb-5189a5d9d727",
    "_uuid": "853c05c9-c3d9-4beb-828b-bffe2787a05c"
   },
   "outputs": [
    {
     "data": {
      "text/plain": [
       "count    42462.000000\n",
       "mean         6.014877\n",
       "std          1.256208\n",
       "min          0.500000\n",
       "25%          5.300000\n",
       "50%          6.100000\n",
       "75%          6.900000\n",
       "max         10.000000\n",
       "Name: vote_average, dtype: float64"
      ]
     },
     "execution_count": 26,
     "metadata": {},
     "output_type": "execute_result"
    }
   ],
   "source": [
    "df['vote_average'] = df['vote_average'].replace(0, np.nan)\n",
    "df['vote_average'].describe()"
   ]
  },
  {
   "cell_type": "code",
   "execution_count": 27,
   "metadata": {
    "_cell_guid": "20b8df6a-f804-4384-ab78-86863f3c787b",
    "_uuid": "c2014ddd-5782-4127-87f5-d7268398b3c3"
   },
   "outputs": [
    {
     "data": {
      "text/plain": [
       "<matplotlib.axes._subplots.AxesSubplot at 0x7fcce1ef6850>"
      ]
     },
     "execution_count": 27,
     "metadata": {},
     "output_type": "execute_result"
    },
    {
     "data": {
      "image/png": "[encoded data removed]",
      "text/plain": [
       "<Figure size 432x288 with 1 Axes>"
      ]
     },
     "metadata": {},
     "output_type": "display_data"
    }
   ],
   "source": [
    "sns.distplot(df['vote_average'].fillna(df['vote_average'].median()))"
   ]
  },
  {
   "cell_type": "code",
   "execution_count": 29,
   "metadata": {
    "_cell_guid": "a6697a2d-9423-43b2-9804-b386d6c38c9a",
    "_uuid": "36f485fc-0fd4-4c1d-b0f6-d1f0e4ad026e"
   },
   "outputs": [
    {
     "data": {
      "text/plain": [
       "<seaborn.axisgrid.JointGrid at 0x7fcce25a3f90>"
      ]
     },
     "execution_count": 29,
     "metadata": {},
     "output_type": "execute_result"
    },
    {
     "data": {
      "image/png": "[encoded data removed]",
      "text/plain": [
       "<Figure size 432x432 with 3 Axes>"
      ]
     },
     "metadata": {},
     "output_type": "display_data"
    }
   ],
   "source": [
    "sns.jointplot(x='vote_average', y='popularity', data=df)"
   ]
  },
  {
   "cell_type": "code",
   "execution_count": 30,
   "metadata": {
    "_cell_guid": "91825fad-6990-4330-82a0-df92bdd2c2c3",
    "_uuid": "ca5dc0f9-d352-43e3-993c-20af2e0a34f4"
   },
   "outputs": [
    {
     "data": {
      "text/plain": [
       "<seaborn.axisgrid.JointGrid at 0x7fcce1e20210>"
      ]
     },
     "execution_count": 30,
     "metadata": {},
     "output_type": "execute_result"
    },
    {
     "data": {
      "image/png": "[encoded data removed]",
      "text/plain": [
       "<Figure size 432x432 with 3 Axes>"
      ]
     },
     "metadata": {},
     "output_type": "display_data"
    }
   ],
   "source": [
    "sns.jointplot(x='vote_average', y='vote_count', data=df)"
   ]
  },
  {
   "cell_type": "markdown",
   "metadata": {
    "_cell_guid": "4c772e05-e0a3-4533-b55b-ff82923c79cd",
    "_uuid": "f4401011-3756-4647-ad43-06e86a3c7393"
   },
   "source": [
    "### Movie Release Dates"
   ]
  },
  {
   "cell_type": "code",
   "execution_count": 31,
   "metadata": {
    "_cell_guid": "6a7730e9-9189-409e-8883-1706ee07d1c0",
    "_uuid": "edffcbad-4616-4342-82a6-125450e29d50"
   },
   "outputs": [],
   "source": [
    "month_order = ['Jan', 'Feb', 'Mar', 'Apr', 'May', 'Jun', 'Jul', 'Aug', 'Sep', 'Oct', 'Nov', 'Dec']\n",
    "day_order = ['Mon', 'Tue', 'Wed', 'Thu', 'Fri', 'Sat', 'Sun']"
   ]
  },
  {
   "cell_type": "code",
   "execution_count": 32,
   "metadata": {
    "_cell_guid": "8a6b6e21-d600-48fd-8506-78acd6d0e852",
    "_uuid": "3ec60181-b918-4a85-9c7b-07cb4a4628e1"
   },
   "outputs": [],
   "source": [
    "def get_month(x):\n",
    "    try:\n",
    "        return month_order[int(str(x).split('-')[1]) - 1]\n",
    "    except:\n",
    "        return np.nan"
   ]
  },
  {
   "cell_type": "code",
   "execution_count": 33,
   "metadata": {
    "_cell_guid": "e5c34103-62d2-4a3a-85a7-38a0e489dc9c",
    "_uuid": "6a0e06fa-88a0-4ed2-ace5-67e2822474f3"
   },
   "outputs": [],
   "source": [
    "def get_day(x):\n",
    "    try:\n",
    "        year, month, day = (int(i) for i in x.split('-'))    \n",
    "        answer = datetime.date(year, month, day).weekday()\n",
    "        return day_order[answer]\n",
    "    except:\n",
    "        return np.nan"
   ]
  },
  {
   "cell_type": "code",
   "execution_count": 34,
   "metadata": {
    "_cell_guid": "a78f55aa-dda1-43c5-9ea6-4a685b35a498",
    "_uuid": "01da16a4-7a2b-4c91-ab5e-f77267e57ac9"
   },
   "outputs": [],
   "source": [
    "df['day'] = df['release_date'].apply(get_day)\n",
    "df['month'] = df['release_date'].apply(get_month)"
   ]
  },
  {
   "cell_type": "code",
   "execution_count": 35,
   "metadata": {
    "_cell_guid": "2ca48696-5878-4c9c-bb57-e76afd8bb20e",
    "_uuid": "c2b6a0c4-7a82-414d-9d5d-b7dd7cbef10a"
   },
   "outputs": [
    {
     "data": {
      "text/plain": [
       "<matplotlib.axes._subplots.AxesSubplot at 0x7fcccec88890>"
      ]
     },
     "execution_count": 35,
     "metadata": {},
     "output_type": "execute_result"
    },
    {
     "data": {
      "image/png": "[encoded data removed]",
      "text/plain": [
       "<Figure size 864x432 with 1 Axes>"
      ]
     },
     "metadata": {},
     "output_type": "display_data"
    }
   ],
   "source": [
    "plt.figure(figsize=(12,6))\n",
    "plt.title(\"Number of Movies released in a particular month.\")\n",
    "sns.countplot(x='month', data=df, order=month_order)"
   ]
  },
  {
   "cell_type": "code",
   "execution_count": 36,
   "metadata": {
    "_cell_guid": "a39fa073-3c64-4ca3-9955-86288beb0781",
    "_uuid": "b0d328a6-3333-4891-a26b-813131bfff27"
   },
   "outputs": [
    {
     "data": {
      "text/plain": [
       "<matplotlib.axes._subplots.AxesSubplot at 0x7fcce1e63650>"
      ]
     },
     "execution_count": 36,
     "metadata": {},
     "output_type": "execute_result"
    },
    {
     "data": {
      "image/png": "[encoded data removed]",
      "text/plain": [
       "<Figure size 864x432 with 1 Axes>"
      ]
     },
     "metadata": {},
     "output_type": "display_data"
    }
   ],
   "source": [
    "month_mean = pd.DataFrame(df[df['revenue'] > 1e8].groupby('month')['revenue'].mean())\n",
    "month_mean['mon'] = month_mean.index\n",
    "plt.figure(figsize=(12,6))\n",
    "plt.title(\"Average Gross by the Month for Blockbuster Movies\")\n",
    "sns.barplot(x='mon', y='revenue', data=month_mean, order=month_order)"
   ]
  },
  {
   "cell_type": "code",
   "execution_count": null,
   "metadata": {
    "_cell_guid": "cce5630c-96e1-4cce-ad88-15994ae207d8",
    "_uuid": "17b3b461-9e31-4430-bdaa-97f71fbc800b"
   },
   "outputs": [],
   "source": []
  },
  {
   "cell_type": "code",
   "execution_count": 38,
   "metadata": {
    "_cell_guid": "adb328e9-e138-43df-890b-7acf555f4b04",
    "_uuid": "e4ffbb50-e51e-4b73-9a50-b732c5e16501"
   },
   "outputs": [
    {
     "data": {
      "text/plain": [
       "<matplotlib.axes._subplots.AxesSubplot at 0x7fcce1f48c50>"
      ]
     },
     "execution_count": 38,
     "metadata": {},
     "output_type": "execute_result"
    },
    {
     "data": {
      "image/png": "[encoded data removed]",
      "text/plain": [
       "<Figure size 720x360 with 1 Axes>"
      ]
     },
     "metadata": {},
     "output_type": "display_data"
    }
   ],
   "source": [
    "plt.figure(figsize=(10,5))\n",
    "plt.title(\"Number of Movies released on a particular day.\")\n",
    "sns.countplot(x='day', data=df, order=day_order)"
   ]
  },
  {
   "cell_type": "code",
   "execution_count": 39,
   "metadata": {
    "_cell_guid": "f0d87764-d722-48bc-b0a2-6bbf93080b1a",
    "_uuid": "019286dd-87f0-4c10-a785-29d8f8c38477"
   },
   "outputs": [
    {
     "data": {
      "text/plain": [
       "<matplotlib.axes._subplots.AxesSubplot at 0x7fcce1ec55d0>"
      ]
     },
     "execution_count": 39,
     "metadata": {},
     "output_type": "execute_result"
    },
    {
     "data": {
      "image/png": "[encoded data removed]",
      "text/plain": [
       "<Figure size 1296x360 with 1 Axes>"
      ]
     },
     "metadata": {},
     "output_type": "display_data"
    }
   ],
   "source": [
    "year_count = df.groupby('year')['title'].count()\n",
    "plt.figure(figsize=(18,5))\n",
    "year_count.plot()"
   ]
  },
  {
   "cell_type": "code",
   "execution_count": null,
   "metadata": {
    "_cell_guid": "073c63c8-fea2-4b28-a7a2-6dab94a1f9ab",
    "_uuid": "e2e04b1f-060a-40ae-8f3a-b320c5377fa5"
   },
   "outputs": [],
   "source": []
  }
 ],
 "metadata": {
  "kernelspec": {
   "display_name": "Python 3",
   "language": "python",
   "name": "python3"
  },
  "language_info": {
   "codemirror_mode": {
    "name": "ipython",
    "version": 3
   },
   "file_extension": ".py",
   "mimetype": "text/x-python",
   "name": "python",
   "nbconvert_exporter": "python",
   "pygments_lexer": "ipython3",
   "version": "3.7.7"
  }
 },
 "nbformat": 4,
 "nbformat_minor": 4
}
